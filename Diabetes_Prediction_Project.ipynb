{
  "nbformat": 4,
  "nbformat_minor": 0,
  "metadata": {
    "colab": {
      "provenance": [],
      "authorship_tag": "ABX9TyPZ/cFz2tAnUxsUk9HqjsOl",
      "include_colab_link": true
    },
    "kernelspec": {
      "name": "python3",
      "display_name": "Python 3"
    },
    "language_info": {
      "name": "python"
    }
  },
  "cells": [
    {
      "cell_type": "markdown",
      "metadata": {
        "id": "view-in-github",
        "colab_type": "text"
      },
      "source": [
        "<a href=\"https://colab.research.google.com/github/FranklinFrostt/PortfolioProjects/blob/main/Diabetes_Prediction_Project.ipynb\" target=\"_parent\"><img src=\"https://colab.research.google.com/assets/colab-badge.svg\" alt=\"Open In Colab\"/></a>"
      ]
    },
    {
      "cell_type": "code",
      "execution_count": 1,
      "metadata": {
        "colab": {
          "base_uri": "https://localhost:8080/"
        },
        "id": "IpzWIbv0g6-b",
        "outputId": "ec2a1bd1-c434-44e7-972c-ef7755787bef"
      },
      "outputs": [
        {
          "output_type": "stream",
          "name": "stdout",
          "text": [
            "--2025-03-04 11:26:40--  https://raw.githubusercontent.com/plotly/datasets/master/diabetes.csv\n",
            "Resolving raw.githubusercontent.com (raw.githubusercontent.com)... 185.199.111.133, 185.199.108.133, 185.199.110.133, ...\n",
            "Connecting to raw.githubusercontent.com (raw.githubusercontent.com)|185.199.111.133|:443... connected.\n",
            "HTTP request sent, awaiting response... 200 OK\n",
            "Length: 23873 (23K) [text/plain]\n",
            "Saving to: ‘diabetes.csv’\n",
            "\n",
            "\rdiabetes.csv          0%[                    ]       0  --.-KB/s               \rdiabetes.csv        100%[===================>]  23.31K  --.-KB/s    in 0.001s  \n",
            "\n",
            "2025-03-04 11:26:40 (31.5 MB/s) - ‘diabetes.csv’ saved [23873/23873]\n",
            "\n"
          ]
        }
      ],
      "source": [
        "# In first cell\n",
        "!wget https://raw.githubusercontent.com/plotly/datasets/master/diabetes.csv\n",
        "import pandas as pd\n",
        "df = pd.read_csv('diabetes.csv')\n"
      ]
    },
    {
      "cell_type": "code",
      "source": [
        "# Basic stats\n",
        "print(df.describe())\n",
        "\n",
        "# Check missing values\n",
        "print(df.isnull().sum())\n",
        "\n",
        "# Class distribution\n",
        "import seaborn as sns\n",
        "sns.countplot(x='Outcome', data=df)\n"
      ],
      "metadata": {
        "colab": {
          "base_uri": "https://localhost:8080/",
          "height": 970
        },
        "id": "uqpKm5yAs_jo",
        "outputId": "2e278e05-41cb-486b-a433-e029c03f869a"
      },
      "execution_count": 2,
      "outputs": [
        {
          "output_type": "stream",
          "name": "stdout",
          "text": [
            "       Pregnancies     Glucose  BloodPressure  SkinThickness     Insulin  \\\n",
            "count   768.000000  768.000000     768.000000     768.000000  768.000000   \n",
            "mean      3.845052  120.894531      69.105469      20.536458   79.799479   \n",
            "std       3.369578   31.972618      19.355807      15.952218  115.244002   \n",
            "min       0.000000    0.000000       0.000000       0.000000    0.000000   \n",
            "25%       1.000000   99.000000      62.000000       0.000000    0.000000   \n",
            "50%       3.000000  117.000000      72.000000      23.000000   30.500000   \n",
            "75%       6.000000  140.250000      80.000000      32.000000  127.250000   \n",
            "max      17.000000  199.000000     122.000000      99.000000  846.000000   \n",
            "\n",
            "              BMI  DiabetesPedigreeFunction         Age     Outcome  \n",
            "count  768.000000                768.000000  768.000000  768.000000  \n",
            "mean    31.992578                  0.471876   33.240885    0.348958  \n",
            "std      7.884160                  0.331329   11.760232    0.476951  \n",
            "min      0.000000                  0.078000   21.000000    0.000000  \n",
            "25%     27.300000                  0.243750   24.000000    0.000000  \n",
            "50%     32.000000                  0.372500   29.000000    0.000000  \n",
            "75%     36.600000                  0.626250   41.000000    1.000000  \n",
            "max     67.100000                  2.420000   81.000000    1.000000  \n",
            "Pregnancies                 0\n",
            "Glucose                     0\n",
            "BloodPressure               0\n",
            "SkinThickness               0\n",
            "Insulin                     0\n",
            "BMI                         0\n",
            "DiabetesPedigreeFunction    0\n",
            "Age                         0\n",
            "Outcome                     0\n",
            "dtype: int64\n"
          ]
        },
        {
          "output_type": "execute_result",
          "data": {
            "text/plain": [
              "<Axes: xlabel='Outcome', ylabel='count'>"
            ]
          },
          "metadata": {},
          "execution_count": 2
        },
        {
          "output_type": "display_data",
          "data": {
            "text/plain": [
              "<Figure size 640x480 with 1 Axes>"
            ],
            "image/png": "[encoded data removed]"
          },
          "metadata": {}
        }
      ]
    },
    {
      "cell_type": "code",
      "source": [
        "# ========== SECTION 1: DATA VALIDATION ==========\n",
        "import pandas as pd\n",
        "import numpy as np\n",
        "import seaborn as sns\n",
        "import matplotlib.pyplot as plt\n",
        "\n",
        "# Load dataset (already downloaded)\n",
        "df = pd.read_csv('diabetes.csv')\n",
        "\n",
        "# Initial validation\n",
        "print(\"=== INITIAL DATA SHAPE ===\")\n",
        "print(f\"Original dataset shape: {df.shape}\\n\")\n",
        "\n",
        "print(\"=== ZERO VALUE ANALYSIS ===\")\n",
        "zero_fields = ['Glucose', 'BloodPressure', 'SkinThickness', 'Insulin', 'BMI']\n",
        "zero_counts = df[zero_fields].apply(lambda x: (x == 0).sum())\n",
        "print(zero_counts.to_string())"
      ],
      "metadata": {
        "colab": {
          "base_uri": "https://localhost:8080/"
        },
        "id": "4ZD0oTAQF6ly",
        "outputId": "43b1e34f-f7a6-4eea-aed8-0df111fa26ff"
      },
      "execution_count": 25,
      "outputs": [
        {
          "output_type": "stream",
          "name": "stdout",
          "text": [
            "=== INITIAL DATA SHAPE ===\n",
            "Original dataset shape: (768, 9)\n",
            "\n",
            "=== ZERO VALUE ANALYSIS ===\n",
            "Glucose            5\n",
            "BloodPressure     35\n",
            "SkinThickness    227\n",
            "Insulin          374\n",
            "BMI               11\n"
          ]
        }
      ]
    },
    {
      "cell_type": "code",
      "source": [
        "# ========== SECTION 2: DATA PREPROCESSING ==========\n",
        "# Handle zero values\n",
        "imputation_strategy = {\n",
        "    'Glucose': df['Glucose'].median(),\n",
        "    'BloodPressure': df['BloodPressure'].median(),\n",
        "    'SkinThickness': df['SkinThickness'].median(),\n",
        "    'Insulin': df['Insulin'].median(),\n",
        "    'BMI': df['BMI'].median()\n",
        "}\n",
        "\n",
        "for col, value in imputation_strategy.items():\n",
        "    df[col] = df[col].replace(0, value)\n",
        "\n",
        "# Validate zero correction\n",
        "print(\"\\n=== POST-IMPUTATION ZEROS ===\")\n",
        "print(df[zero_fields].apply(lambda x: (x == 0).sum()).to_string())"
      ],
      "metadata": {
        "colab": {
          "base_uri": "https://localhost:8080/"
        },
        "id": "dMa9les94jGZ",
        "outputId": "217d17e1-a2a0-4a4e-a935-c4665c47ce94"
      },
      "execution_count": 26,
      "outputs": [
        {
          "output_type": "stream",
          "name": "stdout",
          "text": [
            "\n",
            "=== POST-IMPUTATION ZEROS ===\n",
            "Glucose          0\n",
            "BloodPressure    0\n",
            "SkinThickness    0\n",
            "Insulin          0\n",
            "BMI              0\n"
          ]
        }
      ]
    },
    {
      "cell_type": "code",
      "source": [
        "# ========== SECTION 3: FEATURE ENGINEERING ==========\n",
        "# Create clinical ratios\n",
        "epsilon = 1e-8  # Prevent division by zero\n",
        "df['Glucose_Insulin_Ratio'] = df['Glucose'] / (df['Insulin'] + epsilon)\n",
        "df['BP_Glucose_Ratio'] = df['BloodPressure'] / (df['Glucose'] + epsilon)\n",
        "df['BMI_Age'] = df['BMI'] * df['Age']\n",
        "\n",
        "# Validate new features\n",
        "print(\"\\n=== NEW FEATURE STATS ===\")\n",
        "print(df[['Glucose_Insulin_Ratio', 'BP_Glucose_Ratio', 'BMI_Age']].describe().loc[['mean', 'std']].round(2))"
      ],
      "metadata": {
        "colab": {
          "base_uri": "https://localhost:8080/"
        },
        "id": "--eQzXN_4jJN",
        "outputId": "ac011f5b-3143-48e7-90b3-dce5930ca6c9"
      },
      "execution_count": 27,
      "outputs": [
        {
          "output_type": "stream",
          "name": "stdout",
          "text": [
            "\n",
            "=== NEW FEATURE STATS ===\n",
            "      Glucose_Insulin_Ratio  BP_Glucose_Ratio  BMI_Age\n",
            "mean                   2.52              0.63  1080.78\n",
            "std                    1.70              0.17   437.77\n"
          ]
        }
      ]
    },
    {
      "cell_type": "code",
      "source": [
        "# ========== SECTION 4: DATA VISUALIZATION ==========\n",
        "plt.figure(figsize=(12, 5))\n",
        "\n",
        "# Class distribution\n",
        "plt.subplot(1, 2, 1)\n",
        "sns.countplot(x='Outcome', data=df)\n",
        "plt.title('Class Distribution')\n",
        "\n",
        "# Feature correlation\n",
        "plt.subplot(1, 2, 2)\n",
        "sns.heatmap(df.corr()[['Outcome']].sort_values('Outcome', ascending=False),\n",
        "           annot=True, cmap='coolwarm')\n",
        "plt.title('Feature Correlation with Outcome')\n",
        "plt.tight_layout()\n",
        "plt.show()\n"
      ],
      "metadata": {
        "colab": {
          "base_uri": "https://localhost:8080/",
          "height": 507
        },
        "id": "dvqW7LJE4jL3",
        "outputId": "403c70b6-cc68-4685-b830-3681d044d378"
      },
      "execution_count": 28,
      "outputs": [
        {
          "output_type": "display_data",
          "data": {
            "text/plain": [
              "<Figure size 1200x500 with 3 Axes>"
            ],
            "image/png": "[encoded data removed]"
          },
          "metadata": {}
        }
      ]
    },
    {
      "cell_type": "code",
      "source": [
        "# ========== SECTION 5: MODEL PREPARATION ==========\n",
        "from sklearn.model_selection import train_test_split\n",
        "from sklearn.preprocessing import StandardScaler\n",
        "from imblearn.over_sampling import SMOTE\n",
        "\n",
        "X = df.drop('Outcome', axis=1)\n",
        "y = df['Outcome']\n",
        "\n",
        "# Split data\n",
        "X_train, X_test, y_train, y_test = train_test_split(\n",
        "    X, y, test_size=0.2, random_state=42, stratify=y\n",
        ")\n",
        "\n",
        "# Handle class imbalance\n",
        "smote = SMOTE(random_state=42)\n",
        "X_train_res, y_train_res = smote.fit_resample(X_train, y_train)\n",
        "\n",
        "# Scale features\n",
        "scaler = StandardScaler()\n",
        "X_train_scaled = scaler.fit_transform(X_train_res)\n",
        "X_test_scaled = scaler.transform(X_test)\n",
        "\n",
        "print(\"\\n=== DATA SPLIT SHAPES ===\")\n",
        "print(f\"Training set: {X_train_scaled.shape}\")\n",
        "print(f\"Testing set: {X_test_scaled.shape}\")"
      ],
      "metadata": {
        "colab": {
          "base_uri": "https://localhost:8080/"
        },
        "id": "I2Z5_a0h4jO0",
        "outputId": "fc5e2669-0e92-4e84-bc9c-fe102b122876"
      },
      "execution_count": 29,
      "outputs": [
        {
          "output_type": "stream",
          "name": "stdout",
          "text": [
            "\n",
            "=== DATA SPLIT SHAPES ===\n",
            "Training set: (800, 11)\n",
            "Testing set: (154, 11)\n"
          ]
        }
      ]
    },
    {
      "cell_type": "code",
      "source": [
        "# ========== SECTION 6: MODEL TRAINING ==========\n",
        "from sklearn.ensemble import RandomForestClassifier\n",
        "from sklearn.model_selection import GridSearchCV\n",
        "\n",
        "# Hyperparameter tuning\n",
        "params = {\n",
        "    'n_estimators': [200, 300],\n",
        "    'max_depth': [5, 10, None],\n",
        "    'class_weight': ['balanced', None]\n",
        "}\n",
        "\n",
        "rf = RandomForestClassifier(random_state=42)\n",
        "grid = GridSearchCV(rf, params, cv=5, scoring='recall')\n",
        "grid.fit(X_train_scaled, y_train_res)\n",
        "\n",
        "print(\"\\n=== BEST PARAMETERS ===\")\n",
        "print(grid.best_params_)"
      ],
      "metadata": {
        "colab": {
          "base_uri": "https://localhost:8080/"
        },
        "id": "CE6J49ai4jRk",
        "outputId": "c477196d-1111-4acd-b14a-f2fec2fedc64"
      },
      "execution_count": 30,
      "outputs": [
        {
          "output_type": "stream",
          "name": "stdout",
          "text": [
            "\n",
            "=== BEST PARAMETERS ===\n",
            "{'class_weight': 'balanced', 'max_depth': 10, 'n_estimators': 300}\n"
          ]
        }
      ]
    },
    {
      "cell_type": "code",
      "source": [
        "# ========== SECTION 7: MODEL EVALUATION ==========\n",
        "from sklearn.metrics import classification_report, confusion_matrix\n",
        "\n",
        "best_model = grid.best_estimator_\n",
        "y_pred = best_model.predict(X_test_scaled)\n",
        "\n",
        "print(\"\\n=== TEST SET PERFORMANCE ===\")\n",
        "print(classification_report(y_test, y_pred))\n",
        "\n",
        "# Feature importance\n",
        "feature_importance = pd.Series(best_model.feature_importances_, index=X.columns)\n",
        "top_features = feature_importance.sort_values(ascending=False).head(5)\n",
        "\n",
        "print(\"\\n=== TOP 5 FEATURES ===\")\n",
        "print(top_features.to_string())\n"
      ],
      "metadata": {
        "colab": {
          "base_uri": "https://localhost:8080/"
        },
        "id": "PvsXY2BQ4jUg",
        "outputId": "eb1be561-b37e-4f17-f787-26e01e0ee811"
      },
      "execution_count": 31,
      "outputs": [
        {
          "output_type": "stream",
          "name": "stdout",
          "text": [
            "\n",
            "=== TEST SET PERFORMANCE ===\n",
            "              precision    recall  f1-score   support\n",
            "\n",
            "           0       0.85      0.80      0.82       100\n",
            "           1       0.67      0.74      0.70        54\n",
            "\n",
            "    accuracy                           0.78       154\n",
            "   macro avg       0.76      0.77      0.76       154\n",
            "weighted avg       0.79      0.78      0.78       154\n",
            "\n",
            "\n",
            "=== TOP 5 FEATURES ===\n",
            "Glucose                     0.183816\n",
            "BMI_Age                     0.160975\n",
            "BMI                         0.133179\n",
            "BP_Glucose_Ratio            0.102832\n",
            "DiabetesPedigreeFunction    0.091213\n"
          ]
        }
      ]
    },
    {
      "cell_type": "code",
      "source": [
        "# ========== SECTION 8: DEPLOYMENT PREP ==========\n",
        "import joblib\n",
        "\n",
        "# Save artifacts\n",
        "joblib.dump(best_model, 'diabetes_rf_model.pkl')\n",
        "joblib.dump(scaler, 'scaler.pkl')\n",
        "\n",
        "print(\"\\n=== DEPLOYMENT ARTIFACTS SAVED ===\")\n",
        "print(\"Model file: diabetes_rf_model.pkl\")\n",
        "print(\"Scaler file: scaler.pkl\")"
      ],
      "metadata": {
        "colab": {
          "base_uri": "https://localhost:8080/"
        },
        "id": "TSnREahG4jYP",
        "outputId": "42758749-e8f5-4d4b-f18a-a9dcc459f527"
      },
      "execution_count": 32,
      "outputs": [
        {
          "output_type": "stream",
          "name": "stdout",
          "text": [
            "\n",
            "=== DEPLOYMENT ARTIFACTS SAVED ===\n",
            "Model file: diabetes_rf_model.pkl\n",
            "Scaler file: scaler.pkl\n"
          ]
        }
      ]
    },
    {
      "cell_type": "code",
      "source": [],
      "metadata": {
        "id": "nYuBt8HjF6o9"
      },
      "execution_count": null,
      "outputs": []
    }
  ]
}